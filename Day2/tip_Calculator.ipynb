{
 "cells": [
  {
   "cell_type": "code",
   "execution_count": 11,
   "metadata": {},
   "outputs": [
    {
     "name": "stdout",
     "output_type": "stream",
     "text": [
      "Welcome to tip calculator\n",
      "what is the total bill: 80\n",
      "How many people to split the bill: 4\n",
      "what percentage of tip you want to pay: 25\n",
      "Each person should pay 25.0\n"
     ]
    }
   ],
   "source": [
    "print(\"Welcome to tip calculator\")\n",
    "bill = float(input(\"what is the total bill: \"))\n",
    "num = float(input(\"How many people to split the bill: \"))\n",
    "tip = float(input(\"what percentage of tip you want to pay: \"))\n",
    "each = (bill + (bill*tip)/100)/num\n",
    "print(\"Each person should pay \"+str(each))"
   ]
  }
 ],
 "metadata": {
  "kernelspec": {
   "display_name": "Python 3",
   "language": "python",
   "name": "python3"
  },
  "language_info": {
   "codemirror_mode": {
    "name": "ipython",
    "version": 3
   },
   "file_extension": ".py",
   "mimetype": "text/x-python",
   "name": "python",
   "nbconvert_exporter": "python",
   "pygments_lexer": "ipython3",
   "version": "3.7.3"
  }
 },
 "nbformat": 4,
 "nbformat_minor": 2
}
