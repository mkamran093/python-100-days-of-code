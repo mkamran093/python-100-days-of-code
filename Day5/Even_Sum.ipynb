{
 "cells": [
  {
   "cell_type": "code",
   "execution_count": 3,
   "metadata": {},
   "outputs": [
    {
     "name": "stdout",
     "output_type": "stream",
     "text": [
      "Enter a number upto which you want to sum: 10\n",
      "Sum of even numbers in given range is 20\n"
     ]
    }
   ],
   "source": [
    "a = int(input(\"Enter a number upto which you want to sum: \"))\n",
    "Esum = 0\n",
    "for num in range(0, a, 2):\n",
    "    Esum += num\n",
    "print(f\"Sum of even numbers in given range is {Esum}\")"
   ]
  },
  {
   "cell_type": "code",
   "execution_count": null,
   "metadata": {},
   "outputs": [],
   "source": []
  }
 ],
 "metadata": {
  "kernelspec": {
   "display_name": "Python 3",
   "language": "python",
   "name": "python3"
  },
  "language_info": {
   "codemirror_mode": {
    "name": "ipython",
    "version": 3
   },
   "file_extension": ".py",
   "mimetype": "text/x-python",
   "name": "python",
   "nbconvert_exporter": "python",
   "pygments_lexer": "ipython3",
   "version": "3.7.3"
  }
 },
 "nbformat": 4,
 "nbformat_minor": 2
}
