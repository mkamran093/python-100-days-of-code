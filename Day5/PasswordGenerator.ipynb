{
 "cells": [
  {
   "cell_type": "code",
   "execution_count": 7,
   "metadata": {},
   "outputs": [
    {
     "name": "stdout",
     "output_type": "stream",
     "text": [
      "Welcome to My Password Generator\n",
      "How many letters do you want in your password: 2\n",
      "How many numbers do you want in your password: 3\n",
      "How many symbols do you want in your password: 4\n",
      "Your secure password is 2%a$@1c1%\n"
     ]
    }
   ],
   "source": [
    "import random\n",
    "letters = ['a', 'b', 'c', 'd', 'e', 'f', 'g', 'h', 'i', 'j', 'k', 'l', 'm', 'n', 'o', 'p', 'q', 'r', 's', 't', 'u', 'v', 'w', 'x', 'y', 'z', 'A', 'B', 'C', 'D', 'E', 'F', 'G', 'H', 'I', 'J', 'K', 'L', 'M', 'N', 'O', 'P', 'Q', 'R', 'S', 'T', 'U', 'V', 'W', 'X', 'Y', 'Z']\n",
    "numbers = ['0', '1', '2', '3', '4', '5', '6', '7', '8', '9']\n",
    "symbols = ['!', '@', '#', '$', '%', '^', '&', '(', ')', '*', '+', '-', '=', '?']\n",
    "\n",
    "print(\"Welcome to My Password Generator\")\n",
    "a = input(\"How many letters do you want in your password: \")\n",
    "b = input(\"How many numbers do you want in your password: \")\n",
    "c = input(\"How many symbols do you want in your password: \")\n",
    "\n",
    "password = ''\n",
    "\n",
    "for num in range(0, int(a)):\n",
    "    password += letters[random.randint(0, int(a))]\n",
    "    \n",
    "for num in range(0, int(b)):\n",
    "    password += numbers[random.randint(0, int(b))]\n",
    "    \n",
    "for num in range(0, int(c)):\n",
    "    password += symbols[random.randint(0, int(c))]\n",
    "\n",
    "code = list(password)\n",
    "random.shuffle(code)\n",
    "password = ''.join(code)\n",
    "print(\"Your secure password is \" +password)\n"
   ]
  },
  {
   "cell_type": "code",
   "execution_count": null,
   "metadata": {},
   "outputs": [],
   "source": []
  }
 ],
 "metadata": {
  "kernelspec": {
   "display_name": "Python 3",
   "language": "python",
   "name": "python3"
  },
  "language_info": {
   "codemirror_mode": {
    "name": "ipython",
    "version": 3
   },
   "file_extension": ".py",
   "mimetype": "text/x-python",
   "name": "python",
   "nbconvert_exporter": "python",
   "pygments_lexer": "ipython3",
   "version": "3.7.3"
  }
 },
 "nbformat": 4,
 "nbformat_minor": 2
}
