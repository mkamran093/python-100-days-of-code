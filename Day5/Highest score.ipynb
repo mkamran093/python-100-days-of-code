{
 "cells": [
  {
   "cell_type": "code",
   "execution_count": 6,
   "metadata": {},
   "outputs": [
    {
     "name": "stdout",
     "output_type": "stream",
     "text": [
      "Enter all the scores separated by a space: 55 66 77 88 99 00 44 33\n",
      "The highest score is 99\n"
     ]
    }
   ],
   "source": [
    "scores = input(\"Enter all the scores separated by a space: \").split(' ')\n",
    "maxim = 0\n",
    "for each in scores:\n",
    "    if int(maxim) < int(each):\n",
    "        maxim = each\n",
    "print(f\"The highest score is {maxim}\")"
   ]
  },
  {
   "cell_type": "code",
   "execution_count": null,
   "metadata": {},
   "outputs": [],
   "source": []
  }
 ],
 "metadata": {
  "kernelspec": {
   "display_name": "Python 3",
   "language": "python",
   "name": "python3"
  },
  "language_info": {
   "codemirror_mode": {
    "name": "ipython",
    "version": 3
   },
   "file_extension": ".py",
   "mimetype": "text/x-python",
   "name": "python",
   "nbconvert_exporter": "python",
   "pygments_lexer": "ipython3",
   "version": "3.7.3"
  }
 },
 "nbformat": 4,
 "nbformat_minor": 2
}
