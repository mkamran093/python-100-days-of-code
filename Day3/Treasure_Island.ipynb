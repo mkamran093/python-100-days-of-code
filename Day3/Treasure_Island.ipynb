{
 "cells": [
  {
   "cell_type": "code",
   "execution_count": 3,
   "metadata": {},
   "outputs": [
    {
     "name": "stdout",
     "output_type": "stream",
     "text": [
      "Welcome to Treasure Island.\n",
      "Your Mission is to find the treasure.\n",
      "You're at a crossroad.where do you want to go? Type \"left\" or \"right\"left\n",
      "You have came to a lake.\n",
      "do you want to \"wait\" or \"swim\"?wait\n",
      "Choose a door: Red, Yellow or Blue:red\n",
      "Burned by fire!!! Game Over\n"
     ]
    }
   ],
   "source": [
    "print(\"Welcome to Treasure Island.\\nYour Mission is to find the treasure.\")\n",
    "opt1 = input(\"You're at a crossroad.where do you want to go? Type \\\"left\\\" or \\\"right\\\"\").lower()\n",
    "if opt1 == 'left':\n",
    "    print(\"You have came to a lake.\")\n",
    "    opt2 = input(\"do you want to \\\"wait\\\" or \\\"swim\\\"?\").lower()\n",
    "    if opt2 == 'wait':\n",
    "        opt3 = input(\"Choose a door: Red, Yellow or Blue:\").lower()\n",
    "        if opt3 == 'red':\n",
    "            print(\"Burned by fire!!! Game Over\")\n",
    "        elif opt3 == 'blue':\n",
    "            print(\"Eaten by beasts!!! Game Over\")\n",
    "        elif opt3 == 'yellow':\n",
    "            print(\"congrats!! You win\")\n",
    "        else:\n",
    "            print(\"Game Over\")\n",
    "    else:\n",
    "        print(\"You are attacked by Trouts!!! Game Over\")\n",
    "else:\n",
    "    print(\"You fell into a Hole!! Game Over\")"
   ]
  },
  {
   "cell_type": "code",
   "execution_count": null,
   "metadata": {},
   "outputs": [],
   "source": []
  }
 ],
 "metadata": {
  "kernelspec": {
   "display_name": "Python 3",
   "language": "python",
   "name": "python3"
  },
  "language_info": {
   "codemirror_mode": {
    "name": "ipython",
    "version": 3
   },
   "file_extension": ".py",
   "mimetype": "text/x-python",
   "name": "python",
   "nbconvert_exporter": "python",
   "pygments_lexer": "ipython3",
   "version": "3.7.3"
  }
 },
 "nbformat": 4,
 "nbformat_minor": 2
}
