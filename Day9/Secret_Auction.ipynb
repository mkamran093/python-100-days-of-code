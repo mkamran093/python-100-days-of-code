{
 "cells": [
  {
   "cell_type": "code",
   "execution_count": 3,
   "metadata": {},
   "outputs": [],
   "source": [
    "logo = '''\n",
    "                         ___________\n",
    "                         \\         /\n",
    "                          )_______(\n",
    "                          |\"\"\"\"\"\"\"|_.-._,.---------.,_.-._\n",
    "                          |       | | |               | | ''-.\n",
    "                          |       |_| |_             _| |_..-'\n",
    "                          |_______| '-' `'---------'` '-'\n",
    "                          )\"\"\"\"\"\"\"(\n",
    "                         /_________\\\\\n",
    "                       .-------------.\n",
    "                      /_______________\\\\\n",
    "'''"
   ]
  },
  {
   "cell_type": "code",
   "execution_count": null,
   "metadata": {},
   "outputs": [
    {
     "name": "stdout",
     "output_type": "stream",
     "text": [
      "\n",
      "                         ___________\n",
      "                         \\         /\n",
      "                          )_______(\n",
      "                          |\"\"\"\"\"\"\"|_.-._,.---------.,_.-._\n",
      "                          |       | | |               | | ''-.\n",
      "                          |       |_| |_             _| |_..-'\n",
      "                          |_______| '-' `'---------'` '-'\n",
      "                          )\"\"\"\"\"\"\"(\n",
      "                         /_________\\\n",
      "                       .-------------.\n",
      "                      /_______________\\\n",
      "\n",
      "Welcom to Secret Auction Program\n",
      "What is your name: kamran\n",
      "What's your bid: $342\n",
      "Are there any other bidders? Type 'yes' or 'no': yes\n",
      "\u001b[H\u001b[2J"
     ]
    }
   ],
   "source": [
    "print(logo)\n",
    "print(\"Welcom to Secret Auction Program\")\n",
    "bidders = {}\n",
    "flag = True\n",
    "while flag:\n",
    "    name = input(\"What is your name: \")\n",
    "    bid = int(input(\"What's your bid: $\"))\n",
    "    bidders[name] = bid\n",
    "    check = input(\"Are there any other bidders? Type 'yes' or 'no': \").lower()\n",
    "    if check != 'yes':\n",
    "        flag = False\n",
    "        \n",
    "price = 0\n",
    "for entry in bidders:\n",
    "    if bidders[entry] > price:\n",
    "        winner = entry\n",
    "        price = bidders[entry]\n",
    "print(f\"The winner is {winner} with a bid of ${price}\")"
   ]
  },
  {
   "cell_type": "code",
   "execution_count": null,
   "metadata": {},
   "outputs": [],
   "source": []
  }
 ],
 "metadata": {
  "kernelspec": {
   "display_name": "Python 3",
   "language": "python",
   "name": "python3"
  }
 },
 "nbformat": 4,
 "nbformat_minor": 2
}
