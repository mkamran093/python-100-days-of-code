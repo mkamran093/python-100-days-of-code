{
 "cells": [
  {
   "cell_type": "code",
   "execution_count": 1,
   "metadata": {},
   "outputs": [
    {
     "name": "stdout",
     "output_type": "stream",
     "text": [
      "{'Harry': 'Exceeds expectations', 'Ron': 'Acceptable', 'Hermione': 'Outstanding', 'Draco': 'Acceptable', 'Neville': 'Fail'}\n"
     ]
    }
   ],
   "source": [
    "student_scores = {\n",
    "  \"Harry\": 81,\n",
    "  \"Ron\": 78,\n",
    "  \"Hermione\": 99, \n",
    "  \"Draco\": 74,\n",
    "  \"Neville\": 62,\n",
    "}\n",
    "\n",
    "student_grades = {}\n",
    "\n",
    "for entry in student_scores:\n",
    "    if student_scores[entry] in range(91, 100):\n",
    "        student_grades[entry] = \"Outstanding\"\n",
    "    elif student_scores[entry] in range(81, 90):\n",
    "        student_grades[entry] = \"Exceeds expectations\"\n",
    "    elif student_scores[entry] in range(71, 80):\n",
    "        student_grades[entry] = \"Acceptable\"\n",
    "    else:\n",
    "        student_grades[entry] = \"Fail\"\n",
    "\n",
    "print(student_grades)"
   ]
  },
  {
   "cell_type": "code",
   "execution_count": null,
   "metadata": {},
   "outputs": [],
   "source": []
  }
 ],
 "metadata": {
  "kernelspec": {
   "display_name": "Python 3",
   "language": "python",
   "name": "python3"
  },
  "language_info": {
   "codemirror_mode": {
    "name": "ipython",
    "version": 3
   },
   "file_extension": ".py",
   "mimetype": "text/x-python",
   "name": "python",
   "nbconvert_exporter": "python",
   "pygments_lexer": "ipython3",
   "version": "3.7.3"
  }
 },
 "nbformat": 4,
 "nbformat_minor": 2
}
