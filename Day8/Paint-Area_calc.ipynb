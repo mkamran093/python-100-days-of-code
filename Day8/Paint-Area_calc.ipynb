{
 "cells": [
  {
   "cell_type": "code",
   "execution_count": 4,
   "metadata": {},
   "outputs": [
    {
     "name": "stdout",
     "output_type": "stream",
     "text": [
      "Enter the width of the wall: 34\n",
      "Enter the Height of the wall: 12\n",
      "You will need 82 cans to paint a 408 square meter wall\n"
     ]
    }
   ],
   "source": [
    "import math\n",
    "def cans_of_paint(a, b):\n",
    "    print(f\"You will need {math.ceil((a*b)/5)} cans to paint a {width * height} square meter wall\")\n",
    "    \n",
    "width = int(input(\"Enter the width of the wall: \"))\n",
    "height = int(input(\"Enter the Height of the wall: \"))\n",
    "\n",
    "cans_of_paint(width, height)\n"
   ]
  },
  {
   "cell_type": "code",
   "execution_count": null,
   "metadata": {},
   "outputs": [],
   "source": []
  }
 ],
 "metadata": {
  "kernelspec": {
   "display_name": "Python 3",
   "language": "python",
   "name": "python3"
  },
  "language_info": {
   "codemirror_mode": {
    "name": "ipython",
    "version": 3
   },
   "file_extension": ".py",
   "mimetype": "text/x-python",
   "name": "python",
   "nbconvert_exporter": "python",
   "pygments_lexer": "ipython3",
   "version": "3.7.3"
  }
 },
 "nbformat": 4,
 "nbformat_minor": 2
}
