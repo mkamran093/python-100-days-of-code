{
 "cells": [
  {
   "cell_type": "code",
   "execution_count": 12,
   "metadata": {},
   "outputs": [],
   "source": [
    "logo = \"\"\"           \n",
    " ,adPPYba, ,adPPYYba,  ,adPPYba, ,adPPYba, ,adPPYYba, 8b,dPPYba,  \n",
    "a8\"     \"\" \"\"     `Y8 a8P_____88 I8[    \"\" \"\"     `Y8 88P'   \"Y8  \n",
    "8b         ,adPPPPP88 8PP\"\"\"\"\"\"\"  `\"Y8ba,  ,adPPPPP88 88          \n",
    "\"8a,   ,aa 88,    ,88 \"8b,   ,aa aa    ]8I 88,    ,88 88          \n",
    " `\"Ybbd8\"' `\"8bbdP\"Y8  `\"Ybbd8\"' `\"YbbdP\"' `\"8bbdP\"Y8 88   \n",
    "            88             88                                 \n",
    "           \"\"             88                                 \n",
    "                          88                                 \n",
    " ,adPPYba, 88 8b,dPPYba,  88,dPPYba,   ,adPPYba, 8b,dPPYba,  \n",
    "a8\"     \"\" 88 88P'    \"8a 88P'    \"8a a8P_____88 88P'   \"Y8  \n",
    "8b         88 88       d8 88       88 8PP\"\"\"\"\"\"\" 88          \n",
    "\"8a,   ,aa 88 88b,   ,a8\" 88       88 \"8b,   ,aa 88          \n",
    " `\"Ybbd8\"' 88 88`YbbdP\"'  88       88  `\"Ybbd8\"' 88          \n",
    "              88                                             \n",
    "              88           \n",
    "\"\"\"\n",
    "alphabet = ['a', 'b', 'c', 'd', 'e', 'f', 'g', 'h', 'i', 'j', 'k', 'l', 'm', 'n', 'o', 'p', 'q', 'r', 's', 't', 'u', 'v', 'w', 'x', 'y', 'z']"
   ]
  },
  {
   "cell_type": "code",
   "execution_count": 13,
   "metadata": {},
   "outputs": [],
   "source": [
    "def encode (text, shift):\n",
    "    cipher = ''\n",
    "    for i in text:\n",
    "        if i in alphabet:\n",
    "            x = alphabet.index(i)\n",
    "            cipher += alphabet[x + shift]\n",
    "        else:\n",
    "            cipher += i\n",
    "    print(\"Here is the encoded result: \" + cipher)\n",
    "    \n",
    "def decode (text, shift):\n",
    "    cipher = ''\n",
    "    for i in text:\n",
    "        if i in alphabet:\n",
    "            x = alphabet.index(i)\n",
    "            cipher += alphabet[(x - shift) % 26]\n",
    "        else:\n",
    "            cipher += i\n",
    "    print(\"Here is the decoded result: \" + cipher)"
   ]
  },
  {
   "cell_type": "code",
   "execution_count": 14,
   "metadata": {},
   "outputs": [
    {
     "name": "stdout",
     "output_type": "stream",
     "text": [
      "           \n",
      " ,adPPYba, ,adPPYYba,  ,adPPYba, ,adPPYba, ,adPPYYba, 8b,dPPYba,  \n",
      "a8\"     \"\" \"\"     `Y8 a8P_____88 I8[    \"\" \"\"     `Y8 88P'   \"Y8  \n",
      "8b         ,adPPPPP88 8PP\"  `\"Y8ba,  ,adPPPPP88 88          \n",
      "\"8a,   ,aa 88,    ,88 \"8b,   ,aa aa    ]8I 88,    ,88 88          \n",
      " `\"Ybbd8\"' `\"8bbdP\"Y8  `\"Ybbd8\"' `\"YbbdP\"' `\"8bbdP\"Y8 88   \n",
      "            88             88                                 \n",
      "           \"\"             88                                 \n",
      "                          88                                 \n",
      " ,adPPYba, 88 8b,dPPYba,  88,dPPYba,   ,adPPYba, 8b,dPPYba,  \n",
      "a8\"     \"\" 88 88P'    \"8a 88P'    \"8a a8P_____88 88P'   \"Y8  \n",
      "8b         88 88       d8 88       88 8PP\" 88          \n",
      "\"8a,   ,aa 88 88b,   ,a8\" 88       88 \"8b,   ,aa 88          \n",
      " `\"Ybbd8\"' 88 88`YbbdP\"'  88       88  `\"Ybbd8\"' 88          \n",
      "              88                                             \n",
      "              88           \n",
      "\n",
      "Type \"encode\" to Encrypt. type \"decode\" to Decrypt: encode\n",
      "Type your message: Hello World\n",
      "Type the shift number: 54\n",
      "Here is the encoded result: Hgnnq Wqtnf\n",
      "Type yes if you want to go again. Otherwise type no: yes\n",
      "Type \"encode\" to Encrypt. type \"decode\" to Decrypt: decode\n",
      "Type your message: Hgnnq Wqtnf\n",
      "Type the shift number: 54\n",
      "Here is the decoded result: Hello World\n",
      "Type yes if you want to go again. Otherwise type no: no\n"
     ]
    }
   ],
   "source": [
    "print(logo)\n",
    "flag = True\n",
    "while flag:\n",
    "    operation = input(\"Type \\\"encode\\\" to Encrypt. type \\\"decode\\\" to Decrypt: \").lower()    \n",
    "    text = input(\"Type your message: \")\n",
    "    shift = int(input(\"Type the shift number: \")) % 26\n",
    "    if operation == 'encode':        \n",
    "        encode (text, shift)\n",
    "    elif operation == 'decode':        \n",
    "        decode (text, shift)\n",
    "    else:\n",
    "        print(\"Invalid input\")\n",
    "    check = input(\"Type yes if you want to go again. Otherwise type no: \").lower()\n",
    "    if check != 'yes':\n",
    "        flag = False"
   ]
  },
  {
   "cell_type": "code",
   "execution_count": null,
   "metadata": {},
   "outputs": [],
   "source": []
  }
 ],
 "metadata": {
  "kernelspec": {
   "display_name": "Python 3",
   "language": "python",
   "name": "python3"
  },
  "language_info": {
   "codemirror_mode": {
    "name": "ipython",
    "version": 3
   },
   "file_extension": ".py",
   "mimetype": "text/x-python",
   "name": "python",
   "nbconvert_exporter": "python",
   "pygments_lexer": "ipython3",
   "version": "3.7.3"
  }
 },
 "nbformat": 4,
 "nbformat_minor": 2
}
