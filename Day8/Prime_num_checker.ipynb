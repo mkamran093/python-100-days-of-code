{
 "cells": [
  {
   "cell_type": "code",
   "execution_count": 7,
   "metadata": {},
   "outputs": [
    {
     "name": "stdout",
     "output_type": "stream",
     "text": [
      "#####Welcome to Prime Number Checker#####\n",
      "Enter a number to check if it is prime: 97\n",
      "97 is a Prime Number\n"
     ]
    }
   ],
   "source": [
    "def prime_checker(x):\n",
    "    for i in range(2, x):\n",
    "        if x % i == 0:\n",
    "            print(f\"{x} is not a prime number\")\n",
    "            return\n",
    "    print(f\"{x} is a Prime Number\")\n",
    "    \n",
    "    \n",
    "print(\"#####Welcome to Prime Number Checker#####\")\n",
    "x = int(input(\"Enter a number to check if it is prime: \"))\n",
    "prime_checker(x)"
   ]
  },
  {
   "cell_type": "code",
   "execution_count": null,
   "metadata": {},
   "outputs": [],
   "source": []
  }
 ],
 "metadata": {
  "kernelspec": {
   "display_name": "Python 3",
   "language": "python",
   "name": "python3"
  },
  "language_info": {
   "codemirror_mode": {
    "name": "ipython",
    "version": 3
   },
   "file_extension": ".py",
   "mimetype": "text/x-python",
   "name": "python",
   "nbconvert_exporter": "python",
   "pygments_lexer": "ipython3",
   "version": "3.7.3"
  }
 },
 "nbformat": 4,
 "nbformat_minor": 2
}
